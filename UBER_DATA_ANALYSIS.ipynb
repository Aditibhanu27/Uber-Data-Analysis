{
  "cells": [
    {
      "cell_type": "markdown",
      "metadata": {
        "colab_type": "text",
        "id": "view-in-github"
      },
      "source": [
        "<a href=\"https://colab.research.google.com/github/avneet281/Uber_Data_Analysis/blob/main/UBER_DATA_ANALYSIS.ipynb\" target=\"_parent\"><img src=\"https://colab.research.google.com/assets/colab-badge.svg\" alt=\"Open In Colab\"/></a>"
      ]
    },
    {
      "cell_type": "code",
      "execution_count": 2,
      "metadata": {
        "colab": {
          "base_uri": "https://localhost:8080/",
          "height": 37,
          "resources": {
            "http://localhost:8080/Uber_image.jpg": {
              "data": "CjwhRE9DVFlQRSBodG1sPgo8aHRtbCBsYW5nPWVuPgogIDxtZXRhIGNoYXJzZXQ9dXRmLTg+CiAgPG1ldGEgbmFtZT12aWV3cG9ydCBjb250ZW50PSJpbml0aWFsLXNjYWxlPTEsIG1pbmltdW0tc2NhbGU9MSwgd2lkdGg9ZGV2aWNlLXdpZHRoIj4KICA8dGl0bGU+RXJyb3IgNDA0IChOb3QgRm91bmQpISExPC90aXRsZT4KICA8c3R5bGU+CiAgICAqe21hcmdpbjowO3BhZGRpbmc6MH1odG1sLGNvZGV7Zm9udDoxNXB4LzIycHggYXJpYWwsc2Fucy1zZXJpZn1odG1se2JhY2tncm91bmQ6I2ZmZjtjb2xvcjojMjIyO3BhZGRpbmc6MTVweH1ib2R5e21hcmdpbjo3JSBhdXRvIDA7bWF4LXdpZHRoOjM5MHB4O21pbi1oZWlnaHQ6MTgwcHg7cGFkZGluZzozMHB4IDAgMTVweH0qID4gYm9keXtiYWNrZ3JvdW5kOnVybCgvL3d3dy5nb29nbGUuY29tL2ltYWdlcy9lcnJvcnMvcm9ib3QucG5nKSAxMDAlIDVweCBuby1yZXBlYXQ7cGFkZGluZy1yaWdodDoyMDVweH1we21hcmdpbjoxMXB4IDAgMjJweDtvdmVyZmxvdzpoaWRkZW59aW5ze2NvbG9yOiM3Nzc7dGV4dC1kZWNvcmF0aW9uOm5vbmV9YSBpbWd7Ym9yZGVyOjB9QG1lZGlhIHNjcmVlbiBhbmQgKG1heC13aWR0aDo3NzJweCl7Ym9keXtiYWNrZ3JvdW5kOm5vbmU7bWFyZ2luLXRvcDowO21heC13aWR0aDpub25lO3BhZGRpbmctcmlnaHQ6MH19I2xvZ297YmFja2dyb3VuZDp1cmwoLy93d3cuZ29vZ2xlLmNvbS9pbWFnZXMvbG9nb3MvZXJyb3JwYWdlL2Vycm9yX2xvZ28tMTUweDU0LnBuZykgbm8tcmVwZWF0O21hcmdpbi1sZWZ0Oi01cHh9QG1lZGlhIG9ubHkgc2NyZWVuIGFuZCAobWluLXJlc29sdXRpb246MTkyZHBpKXsjbG9nb3tiYWNrZ3JvdW5kOnVybCgvL3d3dy5nb29nbGUuY29tL2ltYWdlcy9sb2dvcy9lcnJvcnBhZ2UvZXJyb3JfbG9nby0xNTB4NTQtMngucG5nKSBuby1yZXBlYXQgMCUgMCUvMTAwJSAxMDAlOy1tb3otYm9yZGVyLWltYWdlOnVybCgvL3d3dy5nb29nbGUuY29tL2ltYWdlcy9sb2dvcy9lcnJvcnBhZ2UvZXJyb3JfbG9nby0xNTB4NTQtMngucG5nKSAwfX1AbWVkaWEgb25seSBzY3JlZW4gYW5kICgtd2Via2l0LW1pbi1kZXZpY2UtcGl4ZWwtcmF0aW86Mil7I2xvZ297YmFja2dyb3VuZDp1cmwoLy93d3cuZ29vZ2xlLmNvbS9pbWFnZXMvbG9nb3MvZXJyb3JwYWdlL2Vycm9yX2xvZ28tMTUweDU0LTJ4LnBuZykgbm8tcmVwZWF0Oy13ZWJraXQtYmFja2dyb3VuZC1zaXplOjEwMCUgMTAwJX19I2xvZ297ZGlzcGxheTppbmxpbmUtYmxvY2s7aGVpZ2h0OjU0cHg7d2lkdGg6MTUwcHh9CiAgPC9zdHlsZT4KICA8YSBocmVmPS8vd3d3Lmdvb2dsZS5jb20vPjxzcGFuIGlkPWxvZ28gYXJpYS1sYWJlbD1Hb29nbGU+PC9zcGFuPjwvYT4KICA8cD48Yj40MDQuPC9iPiA8aW5zPlRoYXTigJlzIGFuIGVycm9yLjwvaW5zPgogIDxwPiAgPGlucz5UaGF04oCZcyBhbGwgd2Uga25vdy48L2lucz4K",
              "headers": [
                [
                  "content-length",
                  "1449"
                ],
                [
                  "content-type",
                  "text/html; charset=utf-8"
                ]
              ],
              "ok": false,
              "status": 404,
              "status_text": ""
            }
          }
        },
        "id": "JO2AvuqP2AYJ",
        "outputId": "0aaa967f-c818-4dad-b552-aadd3b98ef53"
      },
      "outputs": [
        {
          "data": {
            "text/html": [
              "<img src=\"Uber_image.jpg\"/>"
            ],
            "text/plain": [
              "<IPython.core.display.Image object>"
            ]
          },
          "execution_count": 2,
          "metadata": {},
          "output_type": "execute_result"
        }
      ],
      "source": [
        "from IPython.display import Image\n",
        "Image(url= \"Uber_image.jpg\")"
      ]
    },
    {
      "cell_type": "markdown",
      "metadata": {
        "id": "fsowR5jMJKQp"
      },
      "source": [
        "Collecting the data"
      ]
    },
    {
      "cell_type": "code",
      "execution_count": 3,
      "metadata": {
        "id": "Osf7cq7f3Ojx"
      },
      "outputs": [],
      "source": [
        "import pandas as pd\n",
        "import numpy as np\n",
        "import time,datetime\n",
        "import matplotlib\n",
        "import matplotlib.pyplot as plt\n",
        "import seaborn as sns\n",
        "import calendar"
      ]
    },
    {
      "cell_type": "code",
      "execution_count": 5,
      "metadata": {
        "id": "697Y6_el3RBB"
      },
      "outputs": [],
      "source": [
        "uber_dataset = pd.read_csv(r\"Uber - 2016.csv\")"
      ]
    },
    {
      "cell_type": "markdown",
      "metadata": {
        "id": "hSy6FUPPJPcD"
      },
      "source": [
        "Exploratory data analysis"
      ]
    },
    {
      "cell_type": "code",
      "execution_count": 6,
      "metadata": {
        "colab": {
          "base_uri": "https://localhost:8080/",
          "height": 206
        },
        "id": "GIPajj7B4WxS",
        "outputId": "9422bac7-bfd3-43e0-a4fe-7402841f21d7"
      },
      "outputs": [
        {
          "data": {
            "text/html": [
              "<div>\n",
              "<style scoped>\n",
              "    .dataframe tbody tr th:only-of-type {\n",
              "        vertical-align: middle;\n",
              "    }\n",
              "\n",
              "    .dataframe tbody tr th {\n",
              "        vertical-align: top;\n",
              "    }\n",
              "\n",
              "    .dataframe thead th {\n",
              "        text-align: right;\n",
              "    }\n",
              "</style>\n",
              "<table border=\"1\" class=\"dataframe\">\n",
              "  <thead>\n",
              "    <tr style=\"text-align: right;\">\n",
              "      <th></th>\n",
              "      <th>START_DATE*</th>\n",
              "      <th>END_DATE*</th>\n",
              "      <th>CATEGORY*</th>\n",
              "      <th>START*</th>\n",
              "      <th>STOP*</th>\n",
              "      <th>MILES*</th>\n",
              "      <th>PURPOSE*</th>\n",
              "    </tr>\n",
              "  </thead>\n",
              "  <tbody>\n",
              "    <tr>\n",
              "      <th>0</th>\n",
              "      <td>1/1/2016 21:11</td>\n",
              "      <td>1/1/2016 21:17</td>\n",
              "      <td>Business</td>\n",
              "      <td>Fort Pierce</td>\n",
              "      <td>Fort Pierce</td>\n",
              "      <td>5.1</td>\n",
              "      <td>Meal/Entertain</td>\n",
              "    </tr>\n",
              "    <tr>\n",
              "      <th>1</th>\n",
              "      <td>1/2/2016 1:25</td>\n",
              "      <td>1/2/2016 1:37</td>\n",
              "      <td>Business</td>\n",
              "      <td>Fort Pierce</td>\n",
              "      <td>Fort Pierce</td>\n",
              "      <td>5.0</td>\n",
              "      <td>NaN</td>\n",
              "    </tr>\n",
              "    <tr>\n",
              "      <th>2</th>\n",
              "      <td>1/2/2016 20:25</td>\n",
              "      <td>1/2/2016 20:38</td>\n",
              "      <td>Business</td>\n",
              "      <td>Fort Pierce</td>\n",
              "      <td>Fort Pierce</td>\n",
              "      <td>4.8</td>\n",
              "      <td>Errand/Supplies</td>\n",
              "    </tr>\n",
              "    <tr>\n",
              "      <th>3</th>\n",
              "      <td>1/5/2016 17:31</td>\n",
              "      <td>1/5/2016 17:45</td>\n",
              "      <td>Business</td>\n",
              "      <td>Fort Pierce</td>\n",
              "      <td>Fort Pierce</td>\n",
              "      <td>4.7</td>\n",
              "      <td>Meeting</td>\n",
              "    </tr>\n",
              "    <tr>\n",
              "      <th>4</th>\n",
              "      <td>1/6/2016 14:42</td>\n",
              "      <td>1/6/2016 15:49</td>\n",
              "      <td>Business</td>\n",
              "      <td>Fort Pierce</td>\n",
              "      <td>West Palm Beach</td>\n",
              "      <td>63.7</td>\n",
              "      <td>Customer Visit</td>\n",
              "    </tr>\n",
              "  </tbody>\n",
              "</table>\n",
              "</div>"
            ],
            "text/plain": [
              "      START_DATE*       END_DATE* CATEGORY*       START*            STOP*  \\\n",
              "0  1/1/2016 21:11  1/1/2016 21:17  Business  Fort Pierce      Fort Pierce   \n",
              "1   1/2/2016 1:25   1/2/2016 1:37  Business  Fort Pierce      Fort Pierce   \n",
              "2  1/2/2016 20:25  1/2/2016 20:38  Business  Fort Pierce      Fort Pierce   \n",
              "3  1/5/2016 17:31  1/5/2016 17:45  Business  Fort Pierce      Fort Pierce   \n",
              "4  1/6/2016 14:42  1/6/2016 15:49  Business  Fort Pierce  West Palm Beach   \n",
              "\n",
              "   MILES*         PURPOSE*  \n",
              "0     5.1   Meal/Entertain  \n",
              "1     5.0              NaN  \n",
              "2     4.8  Errand/Supplies  \n",
              "3     4.7          Meeting  \n",
              "4    63.7   Customer Visit  "
            ]
          },
          "execution_count": 6,
          "metadata": {},
          "output_type": "execute_result"
        }
      ],
      "source": [
        "uber_dataset.head()"
      ]
    },
    {
      "cell_type": "code",
      "execution_count": 7,
      "metadata": {
        "colab": {
          "base_uri": "https://localhost:8080/"
        },
        "id": "efvUesoc4eSr",
        "outputId": "0801551e-996e-43c2-d2c1-a0467196c07a"
      },
      "outputs": [
        {
          "data": {
            "text/plain": [
              "(1156, 7)"
            ]
          },
          "execution_count": 7,
          "metadata": {},
          "output_type": "execute_result"
        }
      ],
      "source": [
        "uber_dataset.shape"
      ]
    },
    {
      "cell_type": "code",
      "execution_count": 8,
      "metadata": {
        "colab": {
          "base_uri": "https://localhost:8080/"
        },
        "id": "XeeXF39h4jwc",
        "outputId": "9fbc2573-6c45-4fad-ac1b-9b51c06b89fa"
      },
      "outputs": [
        {
          "name": "stdout",
          "output_type": "stream",
          "text": [
            "<class 'pandas.core.frame.DataFrame'>\n",
            "RangeIndex: 1156 entries, 0 to 1155\n",
            "Data columns (total 7 columns):\n",
            " #   Column       Non-Null Count  Dtype  \n",
            "---  ------       --------------  -----  \n",
            " 0   START_DATE*  1156 non-null   object \n",
            " 1   END_DATE*    1155 non-null   object \n",
            " 2   CATEGORY*    1155 non-null   object \n",
            " 3   START*       1155 non-null   object \n",
            " 4   STOP*        1155 non-null   object \n",
            " 5   MILES*       1156 non-null   float64\n",
            " 6   PURPOSE*     653 non-null    object \n",
            "dtypes: float64(1), object(6)\n",
            "memory usage: 63.3+ KB\n"
          ]
        }
      ],
      "source": [
        "uber_dataset.info()"
      ]
    },
    {
      "cell_type": "code",
      "execution_count": 9,
      "metadata": {
        "colab": {
          "base_uri": "https://localhost:8080/",
          "height": 300
        },
        "id": "82kndpT64m7S",
        "outputId": "c63fdb16-e590-4532-e798-6252bff7574d"
      },
      "outputs": [
        {
          "data": {
            "text/html": [
              "<div>\n",
              "<style scoped>\n",
              "    .dataframe tbody tr th:only-of-type {\n",
              "        vertical-align: middle;\n",
              "    }\n",
              "\n",
              "    .dataframe tbody tr th {\n",
              "        vertical-align: top;\n",
              "    }\n",
              "\n",
              "    .dataframe thead th {\n",
              "        text-align: right;\n",
              "    }\n",
              "</style>\n",
              "<table border=\"1\" class=\"dataframe\">\n",
              "  <thead>\n",
              "    <tr style=\"text-align: right;\">\n",
              "      <th></th>\n",
              "      <th>MILES*</th>\n",
              "    </tr>\n",
              "  </thead>\n",
              "  <tbody>\n",
              "    <tr>\n",
              "      <th>count</th>\n",
              "      <td>1156.000000</td>\n",
              "    </tr>\n",
              "    <tr>\n",
              "      <th>mean</th>\n",
              "      <td>21.115398</td>\n",
              "    </tr>\n",
              "    <tr>\n",
              "      <th>std</th>\n",
              "      <td>359.299007</td>\n",
              "    </tr>\n",
              "    <tr>\n",
              "      <th>min</th>\n",
              "      <td>0.500000</td>\n",
              "    </tr>\n",
              "    <tr>\n",
              "      <th>25%</th>\n",
              "      <td>2.900000</td>\n",
              "    </tr>\n",
              "    <tr>\n",
              "      <th>50%</th>\n",
              "      <td>6.000000</td>\n",
              "    </tr>\n",
              "    <tr>\n",
              "      <th>75%</th>\n",
              "      <td>10.400000</td>\n",
              "    </tr>\n",
              "    <tr>\n",
              "      <th>max</th>\n",
              "      <td>12204.700000</td>\n",
              "    </tr>\n",
              "  </tbody>\n",
              "</table>\n",
              "</div>"
            ],
            "text/plain": [
              "             MILES*\n",
              "count   1156.000000\n",
              "mean      21.115398\n",
              "std      359.299007\n",
              "min        0.500000\n",
              "25%        2.900000\n",
              "50%        6.000000\n",
              "75%       10.400000\n",
              "max    12204.700000"
            ]
          },
          "execution_count": 9,
          "metadata": {},
          "output_type": "execute_result"
        }
      ],
      "source": [
        "uber_dataset.describe()"
      ]
    },
    {
      "cell_type": "code",
      "execution_count": 10,
      "metadata": {
        "colab": {
          "base_uri": "https://localhost:8080/"
        },
        "id": "ihCAZBOO4p6t",
        "outputId": "df1d7119-c094-43f4-a242-79063836d6b9"
      },
      "outputs": [
        {
          "data": {
            "text/plain": [
              "START_DATE*      0\n",
              "END_DATE*        1\n",
              "CATEGORY*        1\n",
              "START*           1\n",
              "STOP*            1\n",
              "MILES*           0\n",
              "PURPOSE*       503\n",
              "dtype: int64"
            ]
          },
          "execution_count": 10,
          "metadata": {},
          "output_type": "execute_result"
        }
      ],
      "source": [
        "uber_dataset.isnull().sum()"
      ]
    },
    {
      "cell_type": "markdown",
      "metadata": {
        "id": "CMGOgK3BJVPC"
      },
      "source": [
        "Ploting"
      ]
    },
    {
      "cell_type": "code",
      "execution_count": 11,
      "metadata": {
        "id": "6KnklikN4tYU"
      },
      "outputs": [],
      "source": [
        "import matplotlib.pyplot as plt\n",
        "import numpy as np\n",
        "%matplotlib inline\n",
        "import seaborn as sns\n",
        "import pandas as pd"
      ]
    },
    {
      "cell_type": "markdown",
      "metadata": {
        "id": "DG1dCzU1JZcC"
      },
      "source": [
        "Strip Plots"
      ]
    },
    {
      "cell_type": "code",
      "execution_count": 12,
      "metadata": {
        "colab": {
          "base_uri": "https://localhost:8080/",
          "height": 466
        },
        "id": "X7o6_k7u4usI",
        "outputId": "93083858-5429-408c-c86b-e51a567f3de7"
      },
      "outputs": [
        {
          "data": {
            "text/plain": [
              "<Axes: xlabel='CATEGORY*', ylabel='PURPOSE*'>"
            ]
          },
          "execution_count": 12,
          "metadata": {},
          "output_type": "execute_result"
        }
      ],
      "source": [
        "sns.stripplot(data=uber_dataset, x='CATEGORY*', y='PURPOSE*')"
      ]
    },
    {
      "cell_type": "code",
      "execution_count": null,
      "metadata": {
        "colab": {
          "base_uri": "https://localhost:8080/",
          "height": 466
        },
        "id": "73T63HRZ5p9e",
        "outputId": "ec9f907e-085a-4b04-e241-9c3e8b6f6709"
      },
      "outputs": [
        {
          "data": {
            "text/plain": [
              "<Axes: xlabel='MILES*', ylabel='PURPOSE*'>"
            ]
          },
          "execution_count": 16,
          "metadata": {},
          "output_type": "execute_result"
        },
        {
          "data": {
            "image/png": "[encoded data removed]",
            "text/plain": [
              "<Figure size 640x480 with 1 Axes>"
            ]
          },
          "metadata": {},
          "output_type": "display_data"
        }
      ],
      "source": [
        "sns.stripplot(data=uber_dataset, x='MILES*', y='PURPOSE*')"
      ]
    },
    {
      "cell_type": "code",
      "execution_count": 13,
      "metadata": {
        "colab": {
          "base_uri": "https://localhost:8080/",
          "height": 466
        },
        "id": "FmcoHW976cVw",
        "outputId": "94169f2b-4088-47ff-cee2-6c1ebfed28f1"
      },
      "outputs": [
        {
          "data": {
            "text/plain": [
              "<Axes: xlabel='CATEGORY*', ylabel='PURPOSE*'>"
            ]
          },
          "execution_count": 13,
          "metadata": {},
          "output_type": "execute_result"
        }
      ],
      "source": [
        "sns.stripplot(data=uber_dataset, x='START*', y='MILES*')"
      ]
    },
    {
      "cell_type": "markdown",
      "metadata": {
        "id": "35HGFfkEJhwV"
      },
      "source": [
        "Converting Timestamp to Datetime value"
      ]
    },
    {
      "cell_type": "code",
      "execution_count": 14,
      "metadata": {
        "colab": {
          "base_uri": "https://localhost:8080/"
        },
        "id": "kTuuKK3x69kF",
        "outputId": "392e575d-aa11-462e-946d-ede491188dae"
      },
      "outputs": [
        {
          "data": {
            "text/plain": [
              "0     Meal/Entertain\n",
              "1                NaN\n",
              "2    Errand/Supplies\n",
              "3            Meeting\n",
              "4     Customer Visit\n",
              "Name: PURPOSE*, dtype: object"
            ]
          },
          "execution_count": 14,
          "metadata": {},
          "output_type": "execute_result"
        }
      ],
      "source": [
        "uber_dataset['PURPOSE*'].head()"
      ]
    },
    {
      "cell_type": "code",
      "execution_count": 16,
      "metadata": {
        "colab": {
          "base_uri": "https://localhost:8080/"
        },
        "id": "NNtlCt0_8vTu",
        "outputId": "154c2188-69b7-4931-d189-57ecaed296f9"
      },
      "outputs": [
        {
          "name": "stdout",
          "output_type": "stream",
          "text": [
            "dt_object = 2018-12-16 15:00:08\n",
            "dt_object = 2018-11-27 07:30:24\n",
            "dt_object = 2018-12-03 11:58:03\n",
            "dt_object = 2018-11-30 21:43:04\n",
            "dt_object = 2018-12-14 00:45:04\n"
          ]
        }
      ],
      "source": [
        "from datetime import datetime\n",
        "timestamp1 = 1544952608\n",
        "timestamp2 = 1543284024\n",
        "timestamp3 = 1543818483\n",
        "timestamp4 = 1543594384\n",
        "timestamp5 = 1544728504\n",
        "dt_object1 = datetime.fromtimestamp(timestamp1)\n",
        "dt_object2 = datetime.fromtimestamp(timestamp2)\n",
        "dt_object3 = datetime.fromtimestamp(timestamp3)\n",
        "dt_object4 = datetime.fromtimestamp(timestamp4)\n",
        "dt_object5 = datetime.fromtimestamp(timestamp5)\n",
        "print(\"dt_object =\", dt_object1)\n",
        "print(\"dt_object =\", dt_object2)\n",
        "print(\"dt_object =\", dt_object3)\n",
        "print(\"dt_object =\", dt_object4)\n",
        "print(\"dt_object =\", dt_object5)"
      ]
    },
    {
      "cell_type": "markdown",
      "metadata": {
        "id": "voMiXEGGJl1s"
      },
      "source": [
        "Bar plots"
      ]
    },
    {
      "cell_type": "code",
      "execution_count": 17,
      "metadata": {
        "colab": {
          "base_uri": "https://localhost:8080/",
          "height": 561
        },
        "id": "UVFkysTB-SDd",
        "outputId": "c8afae71-86be-45de-85c4-c6122b8c7914"
      },
      "outputs": [
        {
          "data": {
            "text/plain": [
              "<Axes: xlabel='PURPOSE*', ylabel='PURPOSE*'>"
            ]
          },
          "execution_count": 17,
          "metadata": {},
          "output_type": "execute_result"
        }
      ],
      "source": [
        "uber_dataset['PURPOSE*'].value_counts().plot(kind='bar', figsize=(10,5), color='blue')"
      ]
    },
    {
      "cell_type": "code",
      "execution_count": 18,
      "metadata": {
        "colab": {
          "base_uri": "https://localhost:8080/",
          "height": 505
        },
        "id": "7NPWnoM1-pBi",
        "outputId": "256487e8-9f85-4e6e-fa96-f275db5d3cc3"
      },
      "outputs": [
        {
          "data": {
            "text/plain": [
              "<Axes: xlabel='MILES*', ylabel='PURPOSE*'>"
            ]
          },
          "execution_count": 18,
          "metadata": {},
          "output_type": "execute_result"
        }
      ],
      "source": [
        "uber_dataset['MILES*'].value_counts().plot(kind='bar', figsize=(10,5), color='green')"
      ]
    },
    {
      "cell_type": "code",
      "execution_count": 19,
      "metadata": {
        "colab": {
          "base_uri": "https://localhost:8080/",
          "height": 509
        },
        "id": "HYpvz3fxBfge",
        "outputId": "cabcd80c-4e12-4db7-f5ea-30ffbe43508e"
      },
      "outputs": [
        {
          "data": {
            "text/plain": [
              "<Axes: xlabel='CATEGORY*', ylabel='PURPOSE*'>"
            ]
          },
          "execution_count": 19,
          "metadata": {},
          "output_type": "execute_result"
        }
      ],
      "source": [
        "uber_dataset['CATEGORY*'].value_counts().plot(kind='bar', figsize=(10,5), color='orange')"
      ]
    },
    {
      "cell_type": "code",
      "execution_count": 20,
      "metadata": {
        "colab": {
          "base_uri": "https://localhost:8080/",
          "height": 636
        },
        "id": "2v-OEOQXBt4g",
        "outputId": "ad9bc188-606b-4d39-bbe1-4b449e24f98d"
      },
      "outputs": [
        {
          "data": {
            "text/plain": [
              "<Axes: xlabel='START*', ylabel='PURPOSE*'>"
            ]
          },
          "execution_count": 20,
          "metadata": {},
          "output_type": "execute_result"
        }
      ],
      "source": [
        "uber_dataset['START*'].value_counts().plot(kind='bar', figsize=(10,5), color='red')"
      ]
    },
    {
      "cell_type": "code",
      "execution_count": 21,
      "metadata": {
        "colab": {
          "base_uri": "https://localhost:8080/",
          "height": 633
        },
        "id": "46FTHA7xCLSX",
        "outputId": "9b4dce7c-4144-41d6-ffc2-37bdd23f1c51"
      },
      "outputs": [
        {
          "data": {
            "text/plain": [
              "<Axes: xlabel='STOP*', ylabel='PURPOSE*'>"
            ]
          },
          "execution_count": 21,
          "metadata": {},
          "output_type": "execute_result"
        }
      ],
      "source": [
        "uber_dataset['STOP*'].value_counts().plot(kind='bar', figsize=(10,5), color='purple')"
      ]
    },
    {
      "cell_type": "markdown",
      "metadata": {
        "id": "A0po9Os2Jsys"
      },
      "source": [
        "Label Encoding"
      ]
    },
    {
      "cell_type": "code",
      "execution_count": 22,
      "metadata": {
        "id": "zIkNdL23CflX"
      },
      "outputs": [],
      "source": [
        "# Import label encoder\n",
        "from sklearn import preprocessing\n",
        "# label_encoder object knows how to understand word labels.\n",
        "label_encoder = preprocessing.LabelEncoder()"
      ]
    },
    {
      "cell_type": "code",
      "execution_count": 23,
      "metadata": {
        "colab": {
          "base_uri": "https://localhost:8080/"
        },
        "id": "ZVUcle9dCiz3",
        "outputId": "bf42a008-20b6-4881-89c4-9382358774b3"
      },
      "outputs": [
        {
          "data": {
            "text/plain": [
              "START_DATE*     object\n",
              "END_DATE*       object\n",
              "CATEGORY*       object\n",
              "START*          object\n",
              "STOP*           object\n",
              "MILES*         float64\n",
              "PURPOSE*        object\n",
              "dtype: object"
            ]
          },
          "execution_count": 23,
          "metadata": {},
          "output_type": "execute_result"
        }
      ],
      "source": [
        "uber_dataset.dtypes"
      ]
    },
    {
      "cell_type": "code",
      "execution_count": 24,
      "metadata": {
        "id": "5AGg2637CnX-"
      },
      "outputs": [],
      "source": [
        "uber_dataset['START_DATE*']= label_encoder.fit_transform(uber_dataset['START_DATE*'])\n",
        "uber_dataset['END_DATE*']= label_encoder.fit_transform(uber_dataset['END_DATE*'])\n",
        "uber_dataset['MILES*']= label_encoder.fit_transform(uber_dataset['MILES*'])\n",
        "uber_dataset['PURPOSE*']= label_encoder.fit_transform(uber_dataset['PURPOSE*'])\n",
        "uber_dataset['CATEGORY*']= label_encoder.fit_transform(uber_dataset['CATEGORY*'])\n",
        "uber_dataset['START*']= label_encoder.fit_transform(uber_dataset['START*'])\n",
        "uber_dataset['STOP*']= label_encoder.fit_transform(uber_dataset['STOP*'])\n"
      ]
    },
    {
      "cell_type": "code",
      "execution_count": null,
      "metadata": {
        "colab": {
          "base_uri": "https://localhost:8080/"
        },
        "id": "6oYzn2cXDOZq",
        "outputId": "cf40459f-f793-44f8-e51b-2603fd063dda"
      },
      "outputs": [
        {
          "name": "stdout",
          "output_type": "stream",
          "text": [
            "Class mapping of Name: \n",
            "0 --> 0\n",
            "1 --> 1\n",
            "2 --> 2\n",
            "3 --> 3\n",
            "4 --> 4\n",
            "5 --> 5\n",
            "6 --> 6\n",
            "7 --> 7\n",
            "8 --> 8\n",
            "9 --> 9\n",
            "10 --> 10\n",
            "11 --> 11\n",
            "12 --> 12\n",
            "13 --> 13\n",
            "14 --> 14\n",
            "15 --> 15\n",
            "16 --> 16\n",
            "17 --> 17\n",
            "18 --> 18\n",
            "19 --> 19\n",
            "20 --> 20\n",
            "21 --> 21\n",
            "22 --> 22\n",
            "23 --> 23\n",
            "24 --> 24\n",
            "25 --> 25\n",
            "26 --> 26\n",
            "27 --> 27\n",
            "28 --> 28\n",
            "29 --> 29\n",
            "30 --> 30\n",
            "31 --> 31\n",
            "32 --> 32\n",
            "33 --> 33\n",
            "34 --> 34\n",
            "35 --> 35\n",
            "36 --> 36\n",
            "37 --> 37\n",
            "38 --> 38\n",
            "39 --> 39\n",
            "40 --> 40\n",
            "41 --> 41\n",
            "42 --> 42\n",
            "43 --> 43\n",
            "44 --> 44\n",
            "45 --> 45\n",
            "46 --> 46\n",
            "47 --> 47\n",
            "48 --> 48\n",
            "49 --> 49\n",
            "50 --> 50\n",
            "51 --> 51\n",
            "52 --> 52\n",
            "53 --> 53\n",
            "54 --> 54\n",
            "55 --> 55\n",
            "56 --> 56\n",
            "57 --> 57\n",
            "58 --> 58\n",
            "59 --> 59\n",
            "60 --> 60\n",
            "61 --> 61\n",
            "62 --> 62\n",
            "63 --> 63\n",
            "64 --> 64\n",
            "65 --> 65\n",
            "66 --> 66\n",
            "67 --> 67\n",
            "68 --> 68\n",
            "69 --> 69\n",
            "70 --> 70\n",
            "71 --> 71\n",
            "72 --> 72\n",
            "73 --> 73\n",
            "74 --> 74\n",
            "75 --> 75\n",
            "76 --> 76\n",
            "77 --> 77\n",
            "78 --> 78\n",
            "79 --> 79\n",
            "80 --> 80\n",
            "81 --> 81\n",
            "82 --> 82\n",
            "83 --> 83\n",
            "84 --> 84\n",
            "85 --> 85\n",
            "86 --> 86\n",
            "87 --> 87\n",
            "88 --> 88\n",
            "89 --> 89\n",
            "90 --> 90\n",
            "91 --> 91\n",
            "92 --> 92\n",
            "93 --> 93\n",
            "94 --> 94\n",
            "95 --> 95\n",
            "96 --> 96\n",
            "97 --> 97\n",
            "98 --> 98\n",
            "99 --> 99\n",
            "100 --> 100\n",
            "101 --> 101\n",
            "102 --> 102\n",
            "103 --> 103\n",
            "104 --> 104\n",
            "105 --> 105\n",
            "106 --> 106\n",
            "107 --> 107\n",
            "108 --> 108\n",
            "109 --> 109\n",
            "110 --> 110\n",
            "111 --> 111\n",
            "112 --> 112\n",
            "113 --> 113\n",
            "114 --> 114\n",
            "115 --> 115\n",
            "116 --> 116\n",
            "117 --> 117\n",
            "118 --> 118\n",
            "119 --> 119\n",
            "120 --> 120\n",
            "121 --> 121\n",
            "122 --> 122\n",
            "123 --> 123\n",
            "124 --> 124\n",
            "125 --> 125\n",
            "126 --> 126\n",
            "127 --> 127\n",
            "128 --> 128\n",
            "129 --> 129\n",
            "130 --> 130\n",
            "131 --> 131\n",
            "132 --> 132\n",
            "133 --> 133\n",
            "134 --> 134\n",
            "135 --> 135\n",
            "136 --> 136\n",
            "137 --> 137\n",
            "138 --> 138\n",
            "139 --> 139\n",
            "140 --> 140\n",
            "141 --> 141\n",
            "142 --> 142\n",
            "143 --> 143\n",
            "144 --> 144\n",
            "145 --> 145\n",
            "146 --> 146\n",
            "147 --> 147\n",
            "148 --> 148\n",
            "149 --> 149\n",
            "150 --> 150\n",
            "151 --> 151\n",
            "152 --> 152\n",
            "153 --> 153\n",
            "154 --> 154\n",
            "155 --> 155\n",
            "156 --> 156\n",
            "157 --> 157\n",
            "158 --> 158\n",
            "159 --> 159\n",
            "160 --> 160\n",
            "161 --> 161\n",
            "162 --> 162\n",
            "163 --> 163\n",
            "164 --> 164\n",
            "165 --> 165\n",
            "166 --> 166\n",
            "167 --> 167\n",
            "168 --> 168\n",
            "169 --> 169\n",
            "170 --> 170\n",
            "171 --> 171\n",
            "172 --> 172\n",
            "173 --> 173\n",
            "174 --> 174\n",
            "175 --> 175\n",
            "176 --> 176\n",
            "177 --> 177\n",
            "178 --> 178\n",
            "179 --> 179\n",
            "180 --> 180\n",
            "181 --> 181\n",
            "182 --> 182\n",
            "183 --> 183\n",
            "184 --> 184\n",
            "185 --> 185\n",
            "186 --> 186\n",
            "187 --> 187\n",
            "188 --> 188\n"
          ]
        }
      ],
      "source": [
        "uber_dataset['START*']= label_encoder.fit_transform(uber_dataset['STOP*'])\n",
        "\n",
        "print(\"Class mapping: \")\n",
        "for i, item in enumerate(label_encoder.classes_):\n",
        "    print(item, \"-->\", i)"
      ]
    },
    {
      "cell_type": "code",
      "execution_count": 25,
      "metadata": {
        "colab": {
          "base_uri": "https://localhost:8080/"
        },
        "id": "rKE1gp5aEogx",
        "outputId": "fda5649e-518e-4dd8-dad5-84c647571edd"
      },
      "outputs": [
        {
          "name": "stdout",
          "output_type": "stream",
          "text": [
            "Class mapping: \n",
            "0 --> 0\n",
            "1 --> 1\n",
            "2 --> 2\n",
            "3 --> 3\n",
            "4 --> 4\n",
            "5 --> 5\n",
            "6 --> 6\n",
            "7 --> 7\n",
            "8 --> 8\n",
            "9 --> 9\n",
            "10 --> 10\n"
          ]
        }
      ],
      "source": [
        "uber_dataset['CATEGORY*']= label_encoder.fit_transform(uber_dataset['PURPOSE*'])\n",
        "\n",
        "print(\"Class mapping: \")\n",
        "for i, item in enumerate(label_encoder.classes_):\n",
        "    print(item, \"-->\", i)"
      ]
    },
    {
      "cell_type": "code",
      "execution_count": null,
      "metadata": {
        "colab": {
          "base_uri": "https://localhost:8080/"
        },
        "id": "0JtVuExiE7K9",
        "outputId": "f90a44da-334d-4884-b554-acef6ff93240"
      },
      "outputs": [
        {
          "name": "stdout",
          "output_type": "stream",
          "text": [
            "Class mapping of Icon: \n",
            "0 --> 0\n",
            "1 --> 1\n",
            "2 --> 2\n",
            "3 --> 3\n",
            "4 --> 4\n",
            "5 --> 5\n",
            "6 --> 6\n",
            "7 --> 7\n",
            "8 --> 8\n",
            "9 --> 9\n",
            "10 --> 10\n",
            "11 --> 11\n",
            "12 --> 12\n",
            "13 --> 13\n",
            "14 --> 14\n",
            "15 --> 15\n",
            "16 --> 16\n",
            "17 --> 17\n",
            "18 --> 18\n",
            "19 --> 19\n",
            "20 --> 20\n",
            "21 --> 21\n",
            "22 --> 22\n",
            "23 --> 23\n",
            "24 --> 24\n",
            "25 --> 25\n",
            "26 --> 26\n",
            "27 --> 27\n",
            "28 --> 28\n",
            "29 --> 29\n",
            "30 --> 30\n",
            "31 --> 31\n",
            "32 --> 32\n",
            "33 --> 33\n",
            "34 --> 34\n",
            "35 --> 35\n",
            "36 --> 36\n",
            "37 --> 37\n",
            "38 --> 38\n",
            "39 --> 39\n",
            "40 --> 40\n",
            "41 --> 41\n",
            "42 --> 42\n",
            "43 --> 43\n",
            "44 --> 44\n",
            "45 --> 45\n",
            "46 --> 46\n",
            "47 --> 47\n",
            "48 --> 48\n",
            "49 --> 49\n",
            "50 --> 50\n",
            "51 --> 51\n",
            "52 --> 52\n",
            "53 --> 53\n",
            "54 --> 54\n",
            "55 --> 55\n",
            "56 --> 56\n",
            "57 --> 57\n",
            "58 --> 58\n",
            "59 --> 59\n",
            "60 --> 60\n",
            "61 --> 61\n",
            "62 --> 62\n",
            "63 --> 63\n",
            "64 --> 64\n",
            "65 --> 65\n",
            "66 --> 66\n",
            "67 --> 67\n",
            "68 --> 68\n",
            "69 --> 69\n",
            "70 --> 70\n",
            "71 --> 71\n",
            "72 --> 72\n",
            "73 --> 73\n",
            "74 --> 74\n",
            "75 --> 75\n",
            "76 --> 76\n",
            "77 --> 77\n",
            "78 --> 78\n",
            "79 --> 79\n",
            "80 --> 80\n",
            "81 --> 81\n",
            "82 --> 82\n",
            "83 --> 83\n",
            "84 --> 84\n",
            "85 --> 85\n",
            "86 --> 86\n",
            "87 --> 87\n",
            "88 --> 88\n",
            "89 --> 89\n",
            "90 --> 90\n",
            "91 --> 91\n",
            "92 --> 92\n",
            "93 --> 93\n",
            "94 --> 94\n",
            "95 --> 95\n",
            "96 --> 96\n",
            "97 --> 97\n",
            "98 --> 98\n",
            "99 --> 99\n",
            "100 --> 100\n",
            "101 --> 101\n",
            "102 --> 102\n",
            "103 --> 103\n",
            "104 --> 104\n",
            "105 --> 105\n",
            "106 --> 106\n",
            "107 --> 107\n",
            "108 --> 108\n",
            "109 --> 109\n",
            "110 --> 110\n",
            "111 --> 111\n",
            "112 --> 112\n",
            "113 --> 113\n",
            "114 --> 114\n",
            "115 --> 115\n",
            "116 --> 116\n",
            "117 --> 117\n",
            "118 --> 118\n",
            "119 --> 119\n",
            "120 --> 120\n",
            "121 --> 121\n",
            "122 --> 122\n",
            "123 --> 123\n",
            "124 --> 124\n",
            "125 --> 125\n",
            "126 --> 126\n",
            "127 --> 127\n",
            "128 --> 128\n",
            "129 --> 129\n",
            "130 --> 130\n",
            "131 --> 131\n",
            "132 --> 132\n",
            "133 --> 133\n",
            "134 --> 134\n",
            "135 --> 135\n",
            "136 --> 136\n",
            "137 --> 137\n",
            "138 --> 138\n",
            "139 --> 139\n",
            "140 --> 140\n",
            "141 --> 141\n",
            "142 --> 142\n",
            "143 --> 143\n",
            "144 --> 144\n",
            "145 --> 145\n",
            "146 --> 146\n",
            "147 --> 147\n",
            "148 --> 148\n",
            "149 --> 149\n",
            "150 --> 150\n",
            "151 --> 151\n",
            "152 --> 152\n",
            "153 --> 153\n",
            "154 --> 154\n",
            "155 --> 155\n",
            "156 --> 156\n",
            "157 --> 157\n",
            "158 --> 158\n",
            "159 --> 159\n",
            "160 --> 160\n",
            "161 --> 161\n",
            "162 --> 162\n",
            "163 --> 163\n",
            "164 --> 164\n",
            "165 --> 165\n",
            "166 --> 166\n",
            "167 --> 167\n",
            "168 --> 168\n",
            "169 --> 169\n",
            "170 --> 170\n",
            "171 --> 171\n",
            "172 --> 172\n",
            "173 --> 173\n",
            "174 --> 174\n",
            "175 --> 175\n",
            "176 --> 176\n",
            "177 --> 177\n",
            "178 --> 178\n",
            "179 --> 179\n",
            "180 --> 180\n",
            "181 --> 181\n",
            "182 --> 182\n",
            "183 --> 183\n",
            "184 --> 184\n",
            "185 --> 185\n",
            "186 --> 186\n",
            "187 --> 187\n",
            "188 --> 188\n",
            "189 --> 189\n",
            "190 --> 190\n",
            "191 --> 191\n",
            "192 --> 192\n",
            "193 --> 193\n",
            "194 --> 194\n",
            "195 --> 195\n",
            "196 --> 196\n",
            "197 --> 197\n",
            "198 --> 198\n",
            "199 --> 199\n",
            "200 --> 200\n",
            "201 --> 201\n",
            "202 --> 202\n",
            "203 --> 203\n",
            "204 --> 204\n",
            "205 --> 205\n",
            "206 --> 206\n",
            "207 --> 207\n",
            "208 --> 208\n",
            "209 --> 209\n",
            "210 --> 210\n",
            "211 --> 211\n",
            "212 --> 212\n",
            "213 --> 213\n",
            "214 --> 214\n",
            "215 --> 215\n",
            "216 --> 216\n",
            "217 --> 217\n",
            "218 --> 218\n",
            "219 --> 219\n",
            "220 --> 220\n",
            "221 --> 221\n",
            "222 --> 222\n",
            "223 --> 223\n",
            "224 --> 224\n",
            "225 --> 225\n",
            "226 --> 226\n",
            "227 --> 227\n",
            "228 --> 228\n",
            "229 --> 229\n",
            "230 --> 230\n",
            "231 --> 231\n",
            "232 --> 232\n",
            "233 --> 233\n",
            "234 --> 234\n",
            "235 --> 235\n",
            "236 --> 236\n",
            "237 --> 237\n",
            "238 --> 238\n",
            "239 --> 239\n",
            "240 --> 240\n",
            "241 --> 241\n",
            "242 --> 242\n",
            "243 --> 243\n",
            "244 --> 244\n",
            "245 --> 245\n",
            "246 --> 246\n",
            "247 --> 247\n",
            "248 --> 248\n",
            "249 --> 249\n",
            "250 --> 250\n",
            "251 --> 251\n",
            "252 --> 252\n",
            "253 --> 253\n",
            "254 --> 254\n",
            "255 --> 255\n",
            "256 --> 256\n"
          ]
        }
      ],
      "source": [
        "uber_dataset['MILES*']= label_encoder.fit_transform(uber_dataset['MILES*'])\n",
        "\n",
        "print(\"Class mapping of Icon: \")\n",
        "for i, item in enumerate(label_encoder.classes_):\n",
        "    print(item, \"-->\", i)"
      ]
    },
    {
      "cell_type": "code",
      "execution_count": 26,
      "metadata": {
        "colab": {
          "base_uri": "https://localhost:8080/"
        },
        "id": "ocJZjgi4FCCD",
        "outputId": "e8998284-8017-4424-dbab-2c50519fbc0a"
      },
      "outputs": [
        {
          "data": {
            "text/plain": [
              "START_DATE*    int32\n",
              "END_DATE*      int32\n",
              "CATEGORY*      int64\n",
              "START*         int32\n",
              "STOP*          int32\n",
              "MILES*         int64\n",
              "PURPOSE*       int32\n",
              "dtype: object"
            ]
          },
          "execution_count": 26,
          "metadata": {},
          "output_type": "execute_result"
        }
      ],
      "source": [
        "uber_dataset.dtypes"
      ]
    },
    {
      "cell_type": "code",
      "execution_count": 27,
      "metadata": {
        "colab": {
          "base_uri": "https://localhost:8080/",
          "height": 206
        },
        "id": "TbjhbCS5FFSC",
        "outputId": "0e504c50-edc9-415b-d932-7e474ed3626e"
      },
      "outputs": [
        {
          "data": {
            "text/html": [
              "<div>\n",
              "<style scoped>\n",
              "    .dataframe tbody tr th:only-of-type {\n",
              "        vertical-align: middle;\n",
              "    }\n",
              "\n",
              "    .dataframe tbody tr th {\n",
              "        vertical-align: top;\n",
              "    }\n",
              "\n",
              "    .dataframe thead th {\n",
              "        text-align: right;\n",
              "    }\n",
              "</style>\n",
              "<table border=\"1\" class=\"dataframe\">\n",
              "  <thead>\n",
              "    <tr style=\"text-align: right;\">\n",
              "      <th></th>\n",
              "      <th>START_DATE*</th>\n",
              "      <th>END_DATE*</th>\n",
              "      <th>CATEGORY*</th>\n",
              "      <th>START*</th>\n",
              "      <th>STOP*</th>\n",
              "      <th>MILES*</th>\n",
              "      <th>PURPOSE*</th>\n",
              "    </tr>\n",
              "  </thead>\n",
              "  <tbody>\n",
              "    <tr>\n",
              "      <th>0</th>\n",
              "      <td>0</td>\n",
              "      <td>0</td>\n",
              "      <td>6</td>\n",
              "      <td>52</td>\n",
              "      <td>49</td>\n",
              "      <td>46</td>\n",
              "      <td>6</td>\n",
              "    </tr>\n",
              "    <tr>\n",
              "      <th>1</th>\n",
              "      <td>27</td>\n",
              "      <td>27</td>\n",
              "      <td>10</td>\n",
              "      <td>52</td>\n",
              "      <td>49</td>\n",
              "      <td>45</td>\n",
              "      <td>10</td>\n",
              "    </tr>\n",
              "    <tr>\n",
              "      <th>2</th>\n",
              "      <td>28</td>\n",
              "      <td>28</td>\n",
              "      <td>5</td>\n",
              "      <td>52</td>\n",
              "      <td>49</td>\n",
              "      <td>43</td>\n",
              "      <td>5</td>\n",
              "    </tr>\n",
              "    <tr>\n",
              "      <th>3</th>\n",
              "      <td>56</td>\n",
              "      <td>56</td>\n",
              "      <td>7</td>\n",
              "      <td>52</td>\n",
              "      <td>49</td>\n",
              "      <td>42</td>\n",
              "      <td>7</td>\n",
              "    </tr>\n",
              "    <tr>\n",
              "      <th>4</th>\n",
              "      <td>57</td>\n",
              "      <td>57</td>\n",
              "      <td>4</td>\n",
              "      <td>52</td>\n",
              "      <td>181</td>\n",
              "      <td>232</td>\n",
              "      <td>4</td>\n",
              "    </tr>\n",
              "  </tbody>\n",
              "</table>\n",
              "</div>"
            ],
            "text/plain": [
              "   START_DATE*  END_DATE*  CATEGORY*  START*  STOP*  MILES*  PURPOSE*\n",
              "0            0          0          6      52     49      46         6\n",
              "1           27         27         10      52     49      45        10\n",
              "2           28         28          5      52     49      43         5\n",
              "3           56         56          7      52     49      42         7\n",
              "4           57         57          4      52    181     232         4"
            ]
          },
          "execution_count": 27,
          "metadata": {},
          "output_type": "execute_result"
        }
      ],
      "source": [
        "uber_dataset.head()"
      ]
    },
    {
      "cell_type": "code",
      "execution_count": 28,
      "metadata": {
        "colab": {
          "base_uri": "https://localhost:8080/"
        },
        "id": "9PyyZzTfFI6W",
        "outputId": "4e2b31c3-462f-4bc3-f056-5ad5a30fd098"
      },
      "outputs": [
        {
          "data": {
            "text/plain": [
              "START_DATE*    0\n",
              "END_DATE*      0\n",
              "CATEGORY*      0\n",
              "START*         0\n",
              "STOP*          0\n",
              "MILES*         0\n",
              "PURPOSE*       0\n",
              "dtype: int64"
            ]
          },
          "execution_count": 28,
          "metadata": {},
          "output_type": "execute_result"
        }
      ],
      "source": [
        "uber_dataset.isnull().sum()"
      ]
    },
    {
      "cell_type": "code",
      "execution_count": 29,
      "metadata": {
        "colab": {
          "base_uri": "https://localhost:8080/"
        },
        "id": "Amo-XgnDFMDP",
        "outputId": "76179022-657d-4298-be56-545c662a6d78"
      },
      "outputs": [
        {
          "data": {
            "text/plain": [
              "7.0"
            ]
          },
          "execution_count": 29,
          "metadata": {},
          "output_type": "execute_result"
        }
      ],
      "source": [
        "uber_dataset['CATEGORY*'].median()"
      ]
    },
    {
      "cell_type": "code",
      "execution_count": 30,
      "metadata": {
        "colab": {
          "base_uri": "https://localhost:8080/"
        },
        "id": "sY-NngQDFkhQ",
        "outputId": "a03eeca0-3311-45c2-d819-435ce86dbf33"
      },
      "outputs": [
        {
          "data": {
            "text/plain": [
              "START_DATE*    0\n",
              "END_DATE*      0\n",
              "CATEGORY*      0\n",
              "START*         0\n",
              "STOP*          0\n",
              "MILES*         0\n",
              "PURPOSE*       0\n",
              "dtype: int64"
            ]
          },
          "execution_count": 30,
          "metadata": {},
          "output_type": "execute_result"
        }
      ],
      "source": [
        "uber_dataset.isnull().sum()"
      ]
    },
    {
      "cell_type": "code",
      "execution_count": 31,
      "metadata": {
        "colab": {
          "base_uri": "https://localhost:8080/"
        },
        "id": "i0Dtn4CMFyYm",
        "outputId": "e835c7c4-61bf-4d8e-ab3c-24c1bee49d53"
      },
      "outputs": [
        {
          "data": {
            "text/plain": [
              "dtype('int64')"
            ]
          },
          "execution_count": 31,
          "metadata": {},
          "output_type": "execute_result"
        }
      ],
      "source": [
        "uber_dataset['CATEGORY*'].dtype"
      ]
    },
    {
      "cell_type": "code",
      "execution_count": 32,
      "metadata": {
        "id": "gMv3BpayF5ec"
      },
      "outputs": [],
      "source": [
        "uber_dataset['CATEGORY*'] = uber_dataset['CATEGORY*'].astype(int)"
      ]
    },
    {
      "cell_type": "code",
      "execution_count": 33,
      "metadata": {
        "colab": {
          "base_uri": "https://localhost:8080/"
        },
        "id": "YLheXzH5F-04",
        "outputId": "31080946-49bb-4262-ce6f-ded2ce66aa6f"
      },
      "outputs": [
        {
          "data": {
            "text/plain": [
              "0     6\n",
              "1    10\n",
              "2     5\n",
              "3     7\n",
              "4     4\n",
              "Name: CATEGORY*, dtype: int32"
            ]
          },
          "execution_count": 33,
          "metadata": {},
          "output_type": "execute_result"
        }
      ],
      "source": [
        "uber_dataset['CATEGORY*'].head()"
      ]
    },
    {
      "cell_type": "code",
      "execution_count": 34,
      "metadata": {
        "id": "gjjd0_m9GFQ_"
      },
      "outputs": [],
      "source": [
        "import numpy as np\n",
        "from sklearn.feature_selection import SelectKBest\n",
        "from sklearn.feature_selection import chi2"
      ]
    },
    {
      "cell_type": "code",
      "execution_count": 35,
      "metadata": {
        "id": "IF_BB6LBGImq"
      },
      "outputs": [],
      "source": [
        "from sklearn.model_selection import train_test_split\n",
        "from sklearn.metrics import accuracy_score"
      ]
    },
    {
      "cell_type": "code",
      "execution_count": 36,
      "metadata": {
        "id": "o6_drnvPGLVm"
      },
      "outputs": [],
      "source": [
        "from sklearn.linear_model import LinearRegression\n",
        "from sklearn.linear_model import LogisticRegression\n",
        "from sklearn.tree import DecisionTreeRegressor\n",
        "from sklearn.ensemble import RandomForestRegressor"
      ]
    },
    {
      "cell_type": "code",
      "execution_count": 37,
      "metadata": {
        "id": "C98513GdGN96"
      },
      "outputs": [],
      "source": [
        "from sklearn.feature_selection import RFE"
      ]
    },
    {
      "cell_type": "code",
      "execution_count": 38,
      "metadata": {
        "id": "2jHDeqt_GfDF"
      },
      "outputs": [],
      "source": [
        "X = uber_dataset.drop('CATEGORY*', axis = 1)\n",
        "y = uber_dataset['CATEGORY*']"
      ]
    },
    {
      "cell_type": "code",
      "execution_count": 39,
      "metadata": {
        "colab": {
          "base_uri": "https://localhost:8080/",
          "height": 206
        },
        "id": "hmS2Csc6Gk93",
        "outputId": "cd54a78c-4a15-4a5c-ac6f-74e8c85d622f"
      },
      "outputs": [
        {
          "data": {
            "text/html": [
              "<div>\n",
              "<style scoped>\n",
              "    .dataframe tbody tr th:only-of-type {\n",
              "        vertical-align: middle;\n",
              "    }\n",
              "\n",
              "    .dataframe tbody tr th {\n",
              "        vertical-align: top;\n",
              "    }\n",
              "\n",
              "    .dataframe thead th {\n",
              "        text-align: right;\n",
              "    }\n",
              "</style>\n",
              "<table border=\"1\" class=\"dataframe\">\n",
              "  <thead>\n",
              "    <tr style=\"text-align: right;\">\n",
              "      <th></th>\n",
              "      <th>START_DATE*</th>\n",
              "      <th>END_DATE*</th>\n",
              "      <th>START*</th>\n",
              "      <th>STOP*</th>\n",
              "      <th>MILES*</th>\n",
              "      <th>PURPOSE*</th>\n",
              "    </tr>\n",
              "  </thead>\n",
              "  <tbody>\n",
              "    <tr>\n",
              "      <th>0</th>\n",
              "      <td>0</td>\n",
              "      <td>0</td>\n",
              "      <td>52</td>\n",
              "      <td>49</td>\n",
              "      <td>46</td>\n",
              "      <td>6</td>\n",
              "    </tr>\n",
              "    <tr>\n",
              "      <th>1</th>\n",
              "      <td>27</td>\n",
              "      <td>27</td>\n",
              "      <td>52</td>\n",
              "      <td>49</td>\n",
              "      <td>45</td>\n",
              "      <td>10</td>\n",
              "    </tr>\n",
              "    <tr>\n",
              "      <th>2</th>\n",
              "      <td>28</td>\n",
              "      <td>28</td>\n",
              "      <td>52</td>\n",
              "      <td>49</td>\n",
              "      <td>43</td>\n",
              "      <td>5</td>\n",
              "    </tr>\n",
              "    <tr>\n",
              "      <th>3</th>\n",
              "      <td>56</td>\n",
              "      <td>56</td>\n",
              "      <td>52</td>\n",
              "      <td>49</td>\n",
              "      <td>42</td>\n",
              "      <td>7</td>\n",
              "    </tr>\n",
              "    <tr>\n",
              "      <th>4</th>\n",
              "      <td>57</td>\n",
              "      <td>57</td>\n",
              "      <td>52</td>\n",
              "      <td>181</td>\n",
              "      <td>232</td>\n",
              "      <td>4</td>\n",
              "    </tr>\n",
              "  </tbody>\n",
              "</table>\n",
              "</div>"
            ],
            "text/plain": [
              "   START_DATE*  END_DATE*  START*  STOP*  MILES*  PURPOSE*\n",
              "0            0          0      52     49      46         6\n",
              "1           27         27      52     49      45        10\n",
              "2           28         28      52     49      43         5\n",
              "3           56         56      52     49      42         7\n",
              "4           57         57      52    181     232         4"
            ]
          },
          "execution_count": 39,
          "metadata": {},
          "output_type": "execute_result"
        }
      ],
      "source": [
        "X.head()"
      ]
    },
    {
      "cell_type": "code",
      "execution_count": 40,
      "metadata": {
        "colab": {
          "base_uri": "https://localhost:8080/"
        },
        "id": "mSOAgKfKGoXx",
        "outputId": "a5db018c-2033-4c6f-d893-8d9d432ea573"
      },
      "outputs": [
        {
          "data": {
            "text/plain": [
              "0     6\n",
              "1    10\n",
              "2     5\n",
              "3     7\n",
              "4     4\n",
              "Name: CATEGORY*, dtype: int32"
            ]
          },
          "execution_count": 40,
          "metadata": {},
          "output_type": "execute_result"
        }
      ],
      "source": [
        "y.head()"
      ]
    },
    {
      "cell_type": "code",
      "execution_count": 41,
      "metadata": {
        "colab": {
          "base_uri": "https://localhost:8080/"
        },
        "id": "ZFEMA-39GrT2",
        "outputId": "7390226f-e270-4d3a-aa9f-2fa551476679"
      },
      "outputs": [
        {
          "data": {
            "text/plain": [
              "(1156, 6)"
            ]
          },
          "execution_count": 41,
          "metadata": {},
          "output_type": "execute_result"
        }
      ],
      "source": [
        "X.shape"
      ]
    },
    {
      "cell_type": "code",
      "execution_count": 42,
      "metadata": {
        "colab": {
          "base_uri": "https://localhost:8080/"
        },
        "id": "aqkJKN7RGtt-",
        "outputId": "06a75c34-ad53-4485-8503-4b69178b419e"
      },
      "outputs": [
        {
          "data": {
            "text/plain": [
              "(1156,)"
            ]
          },
          "execution_count": 42,
          "metadata": {},
          "output_type": "execute_result"
        }
      ],
      "source": [
        "y.shape"
      ]
    },
    {
      "cell_type": "code",
      "execution_count": 43,
      "metadata": {
        "colab": {
          "base_uri": "https://localhost:8080/",
          "height": 273
        },
        "id": "XyzY_ogFGwwg",
        "outputId": "8bd2784c-4aa0-42d1-c75d-b15564bee2c2"
      },
      "outputs": [
        {
          "data": {
            "text/plain": [
              "<Axes: xlabel='CATEGORY*', ylabel='PURPOSE*'>"
            ]
          },
          "execution_count": 43,
          "metadata": {},
          "output_type": "execute_result"
        }
      ],
      "source": [
        "y.value_counts().plot(kind='bar',figsize=(30,8),color='red')"
      ]
    },
    {
      "cell_type": "markdown",
      "metadata": {
        "id": "tpDvPA1TG46q"
      },
      "source": [
        "Training accuracy"
      ]
    },
    {
      "cell_type": "code",
      "execution_count": 44,
      "metadata": {
        "id": "E-xPRvNbG7U1"
      },
      "outputs": [],
      "source": [
        "X_train, X_test, y_train, y_test = train_test_split(X, y, test_size = 0.2, random_state = 42)"
      ]
    },
    {
      "cell_type": "code",
      "execution_count": 45,
      "metadata": {
        "colab": {
          "base_uri": "https://localhost:8080/"
        },
        "id": "l3j1CkAqG_xr",
        "outputId": "27d30b9a-9edf-49fc-bb4a-adab1f03fd0d"
      },
      "outputs": [
        {
          "data": {
            "text/plain": [
              "(924, 6)"
            ]
          },
          "execution_count": 45,
          "metadata": {},
          "output_type": "execute_result"
        }
      ],
      "source": [
        "X_train.shape"
      ]
    },
    {
      "cell_type": "code",
      "execution_count": 46,
      "metadata": {
        "colab": {
          "base_uri": "https://localhost:8080/"
        },
        "id": "njVp0-UtHCfr",
        "outputId": "550605cb-83d3-4988-f3d4-85a994cad9d0"
      },
      "outputs": [
        {
          "data": {
            "text/plain": [
              "(232, 6)"
            ]
          },
          "execution_count": 46,
          "metadata": {},
          "output_type": "execute_result"
        }
      ],
      "source": [
        "X_test.shape"
      ]
    },
    {
      "cell_type": "code",
      "execution_count": 47,
      "metadata": {
        "colab": {
          "base_uri": "https://localhost:8080/"
        },
        "id": "WS5vzWiYHFAT",
        "outputId": "4e24fca5-cf6f-4399-cf28-6341a9bac0dd"
      },
      "outputs": [
        {
          "data": {
            "text/plain": [
              "(924,)"
            ]
          },
          "execution_count": 47,
          "metadata": {},
          "output_type": "execute_result"
        }
      ],
      "source": [
        "y_train.shape"
      ]
    },
    {
      "cell_type": "code",
      "execution_count": 48,
      "metadata": {
        "colab": {
          "base_uri": "https://localhost:8080/"
        },
        "id": "wO4waeflHH3V",
        "outputId": "25073ac7-a9d0-46c8-e290-3feebacf5e1b"
      },
      "outputs": [
        {
          "data": {
            "text/plain": [
              "(232,)"
            ]
          },
          "execution_count": 48,
          "metadata": {},
          "output_type": "execute_result"
        }
      ],
      "source": [
        "y_test.shape"
      ]
    },
    {
      "cell_type": "code",
      "execution_count": 49,
      "metadata": {
        "colab": {
          "base_uri": "https://localhost:8080/"
        },
        "id": "r7ka0f-YHNER",
        "outputId": "b2861e0c-950d-4045-fc96-8e2a02f63741"
      },
      "outputs": [
        {
          "data": {
            "text/plain": [
              "1.0"
            ]
          },
          "execution_count": 49,
          "metadata": {},
          "output_type": "execute_result"
        }
      ],
      "source": [
        "reg = LinearRegression()\n",
        "#Fitting training data\n",
        "reg = reg.fit(X_train, y_train)\n",
        "reg.score(X_train, y_train)"
      ]
    },
    {
      "cell_type": "markdown",
      "metadata": {
        "id": "OMN_ewvVHmAd"
      },
      "source": [
        "Modeling"
      ]
    },
    {
      "cell_type": "code",
      "execution_count": 50,
      "metadata": {
        "colab": {
          "base_uri": "https://localhost:8080/"
        },
        "id": "b9kDsYMRHgbA",
        "outputId": "4ed72292-6728-4aef-8405-208d00f31066"
      },
      "outputs": [
        {
          "data": {
            "text/plain": [
              "(1156, 7)"
            ]
          },
          "execution_count": 50,
          "metadata": {},
          "output_type": "execute_result"
        }
      ],
      "source": [
        "uber_dataset.shape"
      ]
    },
    {
      "cell_type": "code",
      "execution_count": 51,
      "metadata": {
        "colab": {
          "base_uri": "https://localhost:8080/"
        },
        "id": "Ge1I9DiAHpmA",
        "outputId": "b7d14d9d-db80-41c8-d8e5-43e1ce9dd9db"
      },
      "outputs": [
        {
          "data": {
            "text/plain": [
              "(1156,)"
            ]
          },
          "execution_count": 51,
          "metadata": {},
          "output_type": "execute_result"
        }
      ],
      "source": [
        "y.shape"
      ]
    },
    {
      "cell_type": "code",
      "execution_count": 52,
      "metadata": {
        "id": "eLO_vBf9Hut1"
      },
      "outputs": [],
      "source": [
        "from sklearn.model_selection import train_test_split\n",
        "# Split the data into training and testing sets\n",
        "x_train, x_test, y_train, y_test = train_test_split(uber_dataset, y, test_size = 0.2, random_state = 42)"
      ]
    },
    {
      "cell_type": "code",
      "execution_count": 53,
      "metadata": {
        "colab": {
          "base_uri": "https://localhost:8080/"
        },
        "id": "v-dFosMbH3CU",
        "outputId": "3a36794e-3cd6-4cf4-bfb3-a6ce20b64533"
      },
      "outputs": [
        {
          "data": {
            "text/plain": [
              "(924, 7)"
            ]
          },
          "execution_count": 53,
          "metadata": {},
          "output_type": "execute_result"
        }
      ],
      "source": [
        "x_train.shape"
      ]
    },
    {
      "cell_type": "code",
      "execution_count": 54,
      "metadata": {
        "colab": {
          "base_uri": "https://localhost:8080/"
        },
        "id": "IEzE9qbLH69u",
        "outputId": "930f0883-fab9-43c3-8209-0507b697a6b8"
      },
      "outputs": [
        {
          "data": {
            "text/plain": [
              "(232, 7)"
            ]
          },
          "execution_count": 54,
          "metadata": {},
          "output_type": "execute_result"
        }
      ],
      "source": [
        "x_test.shape"
      ]
    },
    {
      "cell_type": "code",
      "execution_count": 55,
      "metadata": {
        "colab": {
          "base_uri": "https://localhost:8080/"
        },
        "id": "FmNXzwmgH-1Z",
        "outputId": "42ce0547-7d87-4c0b-ab2a-39e8e2f1a2e2"
      },
      "outputs": [
        {
          "data": {
            "text/plain": [
              "(924,)"
            ]
          },
          "execution_count": 55,
          "metadata": {},
          "output_type": "execute_result"
        }
      ],
      "source": [
        "y_train.shape"
      ]
    },
    {
      "cell_type": "code",
      "execution_count": 56,
      "metadata": {
        "colab": {
          "base_uri": "https://localhost:8080/"
        },
        "id": "M_wbIuckIBgr",
        "outputId": "fedf5ceb-4fbb-4e64-af47-0883f4741c29"
      },
      "outputs": [
        {
          "data": {
            "text/plain": [
              "(232,)"
            ]
          },
          "execution_count": 56,
          "metadata": {},
          "output_type": "execute_result"
        }
      ],
      "source": [
        "y_test.shape"
      ]
    },
    {
      "cell_type": "code",
      "execution_count": 57,
      "metadata": {
        "id": "gf7sCDfcIFWL"
      },
      "outputs": [],
      "source": [
        "from sklearn.linear_model import LinearRegression\n",
        "from sklearn.linear_model import LogisticRegression\n",
        "from sklearn.tree import DecisionTreeRegressor\n",
        "from sklearn.ensemble import RandomForestRegressor\n"
      ]
    },
    {
      "cell_type": "code",
      "execution_count": 58,
      "metadata": {
        "colab": {
          "base_uri": "https://localhost:8080/"
        },
        "id": "7QaUM9x1IMDE",
        "outputId": "b6639312-9aa5-443d-acf2-d02b052071d5"
      },
      "outputs": [
        {
          "data": {
            "text/plain": [
              "1.0"
            ]
          },
          "execution_count": 58,
          "metadata": {},
          "output_type": "execute_result"
        }
      ],
      "source": [
        "linear = LinearRegression()\n",
        "linear.fit(x_train, y_train)\n",
        "linear.score(x_test, y_test)\n"
      ]
    },
    {
      "cell_type": "code",
      "execution_count": 59,
      "metadata": {
        "colab": {
          "base_uri": "https://localhost:8080/"
        },
        "id": "rhrap11uIS8_",
        "outputId": "246c3a77-3a96-48dd-9c0e-06976560d994"
      },
      "outputs": [
        {
          "data": {
            "text/plain": [
              "1.0"
            ]
          },
          "execution_count": 59,
          "metadata": {},
          "output_type": "execute_result"
        }
      ],
      "source": [
        "decision = DecisionTreeRegressor(random_state = 0)\n",
        "decision.fit(x_train , y_train)\n",
        "decision.score(x_test, y_test)"
      ]
    },
    {
      "cell_type": "markdown",
      "metadata": {
        "id": "SLbBCV3IIeFt"
      },
      "source": [
        "Testing"
      ]
    },
    {
      "cell_type": "code",
      "execution_count": 60,
      "metadata": {
        "colab": {
          "base_uri": "https://localhost:8080/"
        },
        "id": "xkbG_H95IZTh",
        "outputId": "6fc4aaca-b5b7-4e65-95ad-ac6816913f5e"
      },
      "outputs": [
        {
          "data": {
            "text/plain": [
              "array([ 1.81406847e-15, -1.80968924e-15,  5.00000000e-01, -3.77341597e-17,\n",
              "       -1.09792205e-16, -7.04191928e-18,  5.00000000e-01])"
            ]
          },
          "execution_count": 60,
          "metadata": {},
          "output_type": "execute_result"
        }
      ],
      "source": [
        "linear.coef_"
      ]
    },
    {
      "cell_type": "code",
      "execution_count": 61,
      "metadata": {
        "colab": {
          "base_uri": "https://localhost:8080/"
        },
        "id": "HfwecEE8IhzM",
        "outputId": "eb4e5cfd-e15c-4ecf-fe6d-85d1f6a61ec2"
      },
      "outputs": [
        {
          "data": {
            "text/plain": [
              "array([ 1.00000000e+01,  1.00000000e+01,  1.00000000e+01,  7.00000000e+00,\n",
              "        1.00000000e+01,  7.00000000e+00,  1.00000000e+01,  1.00000000e+01,\n",
              "        1.00000000e+01,  1.00000000e+01,  7.00000000e+00,  7.00000000e+00,\n",
              "        7.00000000e+00,  1.00000000e+00,  7.00000000e+00,  9.00000000e+00,\n",
              "        1.00000000e+01,  1.00000000e+01,  1.00000000e+01,  4.00000000e+00,\n",
              "        7.00000000e+00,  1.00000000e+01,  6.00000000e+00,  1.00000000e+01,\n",
              "        1.00000000e+01,  1.00000000e+01,  7.00000000e+00,  5.00000000e+00,\n",
              "        5.00000000e+00,  5.00000000e+00,  1.00000000e+01,  1.00000000e+00,\n",
              "        4.00000000e+00,  1.00000000e+01,  1.00000000e+01,  1.00000000e+01,\n",
              "        5.00000000e+00,  4.00000000e+00,  1.00000000e+01,  5.00000000e+00,\n",
              "        1.00000000e+01,  4.00000000e+00,  5.00000000e+00,  1.00000000e+01,\n",
              "        1.00000000e+01,  5.00000000e+00,  1.00000000e+01,  1.00000000e+01,\n",
              "        7.00000000e+00,  6.00000000e+00,  4.00000000e+00,  1.00000000e+01,\n",
              "        1.00000000e+01,  1.00000000e+01,  6.00000000e+00,  1.00000000e+01,\n",
              "        5.00000000e+00,  6.00000000e+00,  7.00000000e+00,  7.00000000e+00,\n",
              "        5.00000000e+00,  1.00000000e+01,  7.00000000e+00,  1.00000000e+01,\n",
              "        5.00000000e+00,  1.00000000e+01,  1.00000000e+01,  1.00000000e+01,\n",
              "        9.00000000e+00,  1.00000000e+01,  6.00000000e+00,  6.00000000e+00,\n",
              "        1.00000000e+01,  7.00000000e+00,  6.00000000e+00,  4.00000000e+00,\n",
              "        1.00000000e+01,  1.00000000e+01,  1.00000000e+01,  5.00000000e+00,\n",
              "        1.00000000e+01,  7.00000000e+00,  6.00000000e+00,  9.00000000e+00,\n",
              "        1.00000000e+01,  1.00000000e+01,  1.00000000e+01,  6.00000000e+00,\n",
              "        1.00000000e+01,  6.00000000e+00,  7.00000000e+00,  5.00000000e+00,\n",
              "        6.00000000e+00,  7.00000000e+00,  1.00000000e+01,  4.00000000e+00,\n",
              "        7.00000000e+00,  7.00000000e+00,  6.00000000e+00,  5.00000000e+00,\n",
              "        5.00000000e+00,  9.00000000e+00,  7.00000000e+00,  6.00000000e+00,\n",
              "        6.00000000e+00,  7.00000000e+00,  1.00000000e+01,  7.00000000e+00,\n",
              "        1.00000000e+01,  8.00000000e+00,  1.00000000e+01,  1.00000000e+01,\n",
              "        4.00000000e+00,  1.00000000e+01,  1.00000000e+01,  1.00000000e+01,\n",
              "        7.00000000e+00,  1.00000000e+01,  4.00000000e+00,  6.00000000e+00,\n",
              "        1.00000000e+01,  1.00000000e+01,  1.00000000e+01,  4.00000000e+00,\n",
              "        4.00000000e+00,  6.00000000e+00,  1.00000000e+01,  7.00000000e+00,\n",
              "        7.00000000e+00,  7.00000000e+00,  1.00000000e+01,  6.00000000e+00,\n",
              "        1.00000000e+01,  5.00000000e+00,  1.00000000e+01,  7.00000000e+00,\n",
              "        5.00000000e+00,  1.00000000e+01,  1.00000000e+01,  6.00000000e+00,\n",
              "        1.00000000e+01,  1.00000000e+01,  6.00000000e+00,  1.00000000e+01,\n",
              "        1.00000000e+01,  1.00000000e+01,  1.00000000e+01,  1.00000000e+01,\n",
              "        1.00000000e+01,  7.00000000e+00,  7.00000000e+00,  1.00000000e+01,\n",
              "        7.00000000e+00,  7.00000000e+00,  1.00000000e+01,  4.00000000e+00,\n",
              "        6.00000000e+00,  6.00000000e+00,  6.00000000e+00,  1.00000000e+01,\n",
              "        6.00000000e+00,  7.00000000e+00,  6.00000000e+00,  6.00000000e+00,\n",
              "        6.00000000e+00,  7.00000000e+00,  1.00000000e+01,  1.00000000e+00,\n",
              "        1.00000000e+01,  1.00000000e+01,  1.00000000e+01,  1.00000000e+01,\n",
              "        1.00000000e+01,  1.00000000e+01,  1.00000000e+01,  1.00000000e+01,\n",
              "        4.00000000e+00,  5.00000000e+00,  1.00000000e+01,  6.00000000e+00,\n",
              "        1.00000000e+01,  4.00000000e+00,  1.00000000e+01,  5.00000000e+00,\n",
              "        5.00000000e+00,  1.00000000e+01,  5.00000000e+00,  5.00000000e+00,\n",
              "       -7.31244844e-16,  7.00000000e+00,  7.00000000e+00,  9.00000000e+00,\n",
              "        1.00000000e+01,  5.00000000e+00,  4.00000000e+00,  6.00000000e+00,\n",
              "        1.00000000e+01,  5.00000000e+00,  1.00000000e+01,  7.00000000e+00,\n",
              "        1.00000000e+01,  6.00000000e+00,  6.00000000e+00,  6.00000000e+00,\n",
              "        7.00000000e+00,  7.00000000e+00,  1.00000000e+01,  1.00000000e+01,\n",
              "        6.00000000e+00,  6.00000000e+00,  7.00000000e+00,  1.00000000e+01,\n",
              "        7.00000000e+00,  1.00000000e+01,  4.00000000e+00,  6.00000000e+00,\n",
              "        6.00000000e+00,  1.00000000e+01,  7.00000000e+00,  7.00000000e+00,\n",
              "        7.00000000e+00,  6.00000000e+00,  1.00000000e+01,  1.00000000e+01,\n",
              "        6.00000000e+00,  1.00000000e+01,  1.00000000e+01,  6.00000000e+00,\n",
              "        5.00000000e+00,  6.00000000e+00,  1.00000000e+01,  1.00000000e+00])"
            ]
          },
          "execution_count": 61,
          "metadata": {},
          "output_type": "execute_result"
        }
      ],
      "source": [
        "prediction = linear.predict(x_test)\n",
        "prediction"
      ]
    },
    {
      "cell_type": "code",
      "execution_count": 62,
      "metadata": {
        "id": "rhmmLbtUIubk"
      },
      "outputs": [],
      "source": [
        "prediction=  prediction.astype(int)"
      ]
    },
    {
      "cell_type": "code",
      "execution_count": 63,
      "metadata": {
        "colab": {
          "base_uri": "https://localhost:8080/"
        },
        "id": "mL1H742OIyrV",
        "outputId": "219dcacd-a9e4-4d99-93bc-407e5021b7c8"
      },
      "outputs": [
        {
          "name": "stdout",
          "output_type": "stream",
          "text": [
            "MAE :   0.4353448275862069\n",
            "MSE :   0.4353448275862069\n",
            "RMAE :   0.6598066592466364\n"
          ]
        }
      ],
      "source": [
        "from sklearn import metrics\n",
        "print('MAE :',\" \", metrics.mean_absolute_error(y_test,prediction))\n",
        "print('MSE :',\" \", metrics.mean_squared_error(y_test,prediction))\n",
        "print('RMAE :',\" \", np.sqrt(metrics.mean_squared_error(y_test,prediction)))"
      ]
    },
    {
      "cell_type": "code",
      "execution_count": 64,
      "metadata": {
        "colab": {
          "base_uri": "https://localhost:8080/",
          "height": 657
        },
        "id": "1pu4WDSaI3yW",
        "outputId": "31058692-3039-4464-8c21-effb02a2be39"
      },
      "outputs": [
        {
          "name": "stderr",
          "output_type": "stream",
          "text": [
            "C:\\Users\\KIIT\\AppData\\Local\\Temp\\ipykernel_8496\\1787885490.py:1: UserWarning: \n",
            "\n",
            "`distplot` is a deprecated function and will be removed in seaborn v0.14.0.\n",
            "\n",
            "Please adapt your code to use either `displot` (a figure-level function with\n",
            "similar flexibility) or `histplot` (an axes-level function for histograms).\n",
            "\n",
            "For a guide to updating your code to use the new functions, please see\n",
            "https://gist.github.com/mwaskom/de44147ed2974457ad6372750bbe5751\n",
            "\n",
            "  sns.distplot(y_test - prediction,bins=50)\n"
          ]
        },
        {
          "data": {
            "text/plain": [
              "<Axes: xlabel='CATEGORY*', ylabel='PURPOSE*'>"
            ]
          },
          "execution_count": 64,
          "metadata": {},
          "output_type": "execute_result"
        }
      ],
      "source": [
        "sns.distplot(y_test - prediction,bins=50)"
      ]
    }
  ],
  "metadata": {
    "colab": {
      "authorship_tag": "ABX9TyNVHYTQiVQlhB2dgBd+Cg0I",
      "include_colab_link": true,
      "provenance": []
    },
    "kernelspec": {
      "display_name": "base",
      "language": "python",
      "name": "python3"
    },
    "language_info": {
      "codemirror_mode": {
        "name": "ipython",
        "version": 3
      },
      "file_extension": ".py",
      "mimetype": "text/x-python",
      "name": "python",
      "nbconvert_exporter": "python",
      "pygments_lexer": "ipython3",
      "version": "3.12.7"
    }
  },
  "nbformat": 4,
  "nbformat_minor": 0
}
